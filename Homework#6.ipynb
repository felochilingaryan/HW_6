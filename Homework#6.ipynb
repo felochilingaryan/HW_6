{
 "cells": [
  {
   "cell_type": "markdown",
   "metadata": {},
   "source": [
    "Question #1"
   ]
  },
  {
   "cell_type": "code",
   "execution_count": 8,
   "metadata": {
    "collapsed": true
   },
   "outputs": [],
   "source": [
    "import quandl"
   ]
  },
  {
   "cell_type": "code",
   "execution_count": 9,
   "metadata": {
    "collapsed": true
   },
   "outputs": [],
   "source": [
    "from matplotlib import pyplot as plt"
   ]
  },
  {
   "cell_type": "code",
   "execution_count": 10,
   "metadata": {
    "collapsed": true
   },
   "outputs": [],
   "source": [
    "import pandas"
   ]
  },
  {
   "cell_type": "code",
   "execution_count": 12,
   "metadata": {
    "collapsed": false
   },
   "outputs": [],
   "source": [
    "with open('quandl_key.txt','r') as q:\n",
    "    key = q.read()"
   ]
  },
  {
   "cell_type": "code",
   "execution_count": 21,
   "metadata": {
    "collapsed": false
   },
   "outputs": [],
   "source": [
    "arm=quandl.get('WORLDBANK/ARM_TOT',authtoken=key)"
   ]
  },
  {
   "cell_type": "code",
   "execution_count": 22,
   "metadata": {
    "collapsed": true
   },
   "outputs": [],
   "source": [
    "lux=quandl.get('WORLDBANK/LUX_TOT',authtoken=key)"
   ]
  },
  {
   "cell_type": "code",
   "execution_count": 26,
   "metadata": {
    "collapsed": false
   },
   "outputs": [
    {
     "data": {
      "image/png": "[encoded data removed]",
      "text/plain": [
       "<matplotlib.figure.Figure at 0xb59d518>"
      ]
     },
     "metadata": {},
     "output_type": "display_data"
    }
   ],
   "source": [
    "plt.plot(arm, \"b\")\n",
    "plt.plot(lux, \"r\")\n",
    "plt.show()"
   ]
  },
  {
   "cell_type": "markdown",
   "metadata": {},
   "source": [
    "Question#2"
   ]
  },
  {
   "cell_type": "code",
   "execution_count": 36,
   "metadata": {
    "collapsed": false
   },
   "outputs": [
    {
     "data": {
      "text/plain": [
       "'1.22417921215'"
      ]
     },
     "execution_count": 36,
     "metadata": {},
     "output_type": "execute_result"
    }
   ],
   "source": [
    "str(arm.nlargest(2, \"Value\")['Value'][1])"
   ]
  },
  {
   "cell_type": "markdown",
   "metadata": {},
   "source": [
    "Question#3"
   ]
  },
  {
   "cell_type": "code",
   "execution_count": 45,
   "metadata": {
    "collapsed": false
   },
   "outputs": [],
   "source": [
    "exp=quandl.get('WTO/MERCH_EXP_ARM',authtoken=key)"
   ]
  },
  {
   "cell_type": "code",
   "execution_count": 46,
   "metadata": {
    "collapsed": true
   },
   "outputs": [],
   "source": [
    "imp=quandl.get('WTO/MERCH_IMP_ARM',authtoken=key)"
   ]
  },
  {
   "cell_type": "code",
   "execution_count": 47,
   "metadata": {
    "collapsed": true
   },
   "outputs": [],
   "source": [
    "net_exp=exp-imp"
   ]
  },
  {
   "cell_type": "code",
   "execution_count": 48,
   "metadata": {
    "collapsed": false
   },
   "outputs": [
    {
     "data": {
      "image/png": "[encoded data removed]",
      "text/plain": [
       "<matplotlib.figure.Figure at 0xb9d2668>"
      ]
     },
     "metadata": {},
     "output_type": "display_data"
    }
   ],
   "source": [
    "plt.plot(net_exp)\n",
    "plt.show()"
   ]
  },
  {
   "cell_type": "markdown",
   "metadata": {},
   "source": [
    "Question #4"
   ]
  },
  {
   "cell_type": "code",
   "execution_count": 64,
   "metadata": {
    "collapsed": false
   },
   "outputs": [],
   "source": [
    "goldman=quandl.get('EOD/GS',authtoken=key)['Open']"
   ]
  },
  {
   "cell_type": "code",
   "execution_count": 65,
   "metadata": {
    "collapsed": true
   },
   "outputs": [],
   "source": [
    "verizon=quandl.get('EOD/VZ',authtoken=key)['Open']"
   ]
  },
  {
   "cell_type": "code",
   "execution_count": 66,
   "metadata": {
    "collapsed": true
   },
   "outputs": [],
   "source": [
    "boeing=quandl.get('EOD/BA',authtoken=key)['Open']"
   ]
  },
  {
   "cell_type": "code",
   "execution_count": 67,
   "metadata": {
    "collapsed": false
   },
   "outputs": [
    {
     "data": {
      "text/html": [
       "<div>\n",
       "<table border=\"1\" class=\"dataframe\">\n",
       "  <thead>\n",
       "    <tr style=\"text-align: right;\">\n",
       "      <th></th>\n",
       "      <th>EOD/GS - Open</th>\n",
       "      <th>EOD/VZ - Open</th>\n",
       "      <th>EOD/BA - Open</th>\n",
       "    </tr>\n",
       "    <tr>\n",
       "      <th>Date</th>\n",
       "      <th></th>\n",
       "      <th></th>\n",
       "      <th></th>\n",
       "    </tr>\n",
       "  </thead>\n",
       "  <tbody>\n",
       "    <tr>\n",
       "      <th>1999-06-01</th>\n",
       "      <td>66.63</td>\n",
       "      <td>54.75</td>\n",
       "      <td>42.13</td>\n",
       "    </tr>\n",
       "    <tr>\n",
       "      <th>1999-06-02</th>\n",
       "      <td>63.75</td>\n",
       "      <td>55.25</td>\n",
       "      <td>42.38</td>\n",
       "    </tr>\n",
       "    <tr>\n",
       "      <th>1999-06-03</th>\n",
       "      <td>64.00</td>\n",
       "      <td>54.75</td>\n",
       "      <td>42.19</td>\n",
       "    </tr>\n",
       "    <tr>\n",
       "      <th>1999-06-04</th>\n",
       "      <td>64.31</td>\n",
       "      <td>54.88</td>\n",
       "      <td>42.75</td>\n",
       "    </tr>\n",
       "    <tr>\n",
       "      <th>1999-06-07</th>\n",
       "      <td>65.19</td>\n",
       "      <td>55.56</td>\n",
       "      <td>43.50</td>\n",
       "    </tr>\n",
       "  </tbody>\n",
       "</table>\n",
       "</div>"
      ],
      "text/plain": [
       "            EOD/GS - Open  EOD/VZ - Open  EOD/BA - Open\n",
       "Date                                                   \n",
       "1999-06-01          66.63          54.75          42.13\n",
       "1999-06-02          63.75          55.25          42.38\n",
       "1999-06-03          64.00          54.75          42.19\n",
       "1999-06-04          64.31          54.88          42.75\n",
       "1999-06-07          65.19          55.56          43.50"
      ]
     },
     "execution_count": 67,
     "metadata": {},
     "output_type": "execute_result"
    }
   ],
   "source": [
    "data=quandl.get(['EOD/GS','EOD/VZ','EOD/BA'],trim_start=\"1999-06-01\",column_index=1,authtoken=key)\n",
    "data.head()"
   ]
  },
  {
   "cell_type": "code",
   "execution_count": 69,
   "metadata": {
    "collapsed": false
   },
   "outputs": [
    {
     "data": {
      "text/html": [
       "<div>\n",
       "<table border=\"1\" class=\"dataframe\">\n",
       "  <thead>\n",
       "    <tr style=\"text-align: right;\">\n",
       "      <th></th>\n",
       "      <th>EOD/GS - Open</th>\n",
       "      <th>EOD/VZ - Open</th>\n",
       "      <th>EOD/BA - Open</th>\n",
       "    </tr>\n",
       "  </thead>\n",
       "  <tbody>\n",
       "    <tr>\n",
       "      <th>EOD/GS - Open</th>\n",
       "      <td>1.000000</td>\n",
       "      <td>-0.008853</td>\n",
       "      <td>0.791145</td>\n",
       "    </tr>\n",
       "    <tr>\n",
       "      <th>EOD/VZ - Open</th>\n",
       "      <td>-0.008853</td>\n",
       "      <td>1.000000</td>\n",
       "      <td>0.323711</td>\n",
       "    </tr>\n",
       "    <tr>\n",
       "      <th>EOD/BA - Open</th>\n",
       "      <td>0.791145</td>\n",
       "      <td>0.323711</td>\n",
       "      <td>1.000000</td>\n",
       "    </tr>\n",
       "  </tbody>\n",
       "</table>\n",
       "</div>"
      ],
      "text/plain": [
       "               EOD/GS - Open  EOD/VZ - Open  EOD/BA - Open\n",
       "EOD/GS - Open       1.000000      -0.008853       0.791145\n",
       "EOD/VZ - Open      -0.008853       1.000000       0.323711\n",
       "EOD/BA - Open       0.791145       0.323711       1.000000"
      ]
     },
     "execution_count": 69,
     "metadata": {},
     "output_type": "execute_result"
    }
   ],
   "source": [
    "corr=data.corr()\n",
    "data.corr()"
   ]
  },
  {
   "cell_type": "markdown",
   "metadata": {
    "collapsed": true
   },
   "source": [
    "Question #5"
   ]
  },
  {
   "cell_type": "code",
   "execution_count": 70,
   "metadata": {
    "collapsed": true
   },
   "outputs": [],
   "source": [
    "import googlemaps"
   ]
  },
  {
   "cell_type": "code",
   "execution_count": 71,
   "metadata": {
    "collapsed": true
   },
   "outputs": [],
   "source": [
    "from datetime import datetime"
   ]
  },
  {
   "cell_type": "code",
   "execution_count": 72,
   "metadata": {
    "collapsed": true
   },
   "outputs": [],
   "source": [
    "import re"
   ]
  },
  {
   "cell_type": "code",
   "execution_count": 73,
   "metadata": {
    "collapsed": false
   },
   "outputs": [],
   "source": [
    "with open(\"google_key.txt\",\"r\") as f:\n",
    "    google_key=f.read()\n",
    "gmaps=googlemaps.Client(google_key)"
   ]
  },
  {
   "cell_type": "code",
   "execution_count": 97,
   "metadata": {
    "collapsed": false
   },
   "outputs": [
    {
     "data": {
      "text/plain": [
       "[{u'text': u'155 km', u'value': 155376},\n",
       " {u'text': u'4,070 km', u'value': 4070225},\n",
       " {u'text': u'4,501 km', u'value': 4501098},\n",
       " {u'text': u'67.8 km', u'value': 67790},\n",
       " {u'text': u'1,711 km', u'value': 1710658},\n",
       " {u'text': u'349 km', u'value': 348934},\n",
       " {u'text': u'1,918 km', u'value': 1918299},\n",
       " {u'text': u'302 km', u'value': 302027},\n",
       " {u'text': u'3,509 km', u'value': 3509123},\n",
       " {u'text': u'2,335 km', u'value': 2334745}]"
      ]
     },
     "execution_count": 97,
     "metadata": {},
     "output_type": "execute_result"
    }
   ],
   "source": [
    "kilometers=[]\n",
    "city_list=[\"Philadelphia, PA\",\"Las Vegas, NV\",\"Los Angeles, CA\",'Stamford, CT',\"Alabama, AL\",\n",
    "           \"Boston, MA\",'Kansas City, MO', \"Deleware, DE\",'Salt Lake City, UT',\"Oklahoma City, OK\"]\n",
    "for i in city_list:\n",
    "    directions=gmaps.directions(i,\"New York, NY\",units=\"metric\") \n",
    "    kilometers.append(directions[0]['legs'][0]['distance'])\n",
    "    \n",
    "kilometers"
   ]
  },
  {
   "cell_type": "code",
   "execution_count": null,
   "metadata": {
    "collapsed": true
   },
   "outputs": [],
   "source": []
  }
 ],
 "metadata": {
  "kernelspec": {
   "display_name": "Python 2",
   "language": "python",
   "name": "python2"
  },
  "language_info": {
   "codemirror_mode": {
    "name": "ipython",
    "version": 2
   },
   "file_extension": ".py",
   "mimetype": "text/x-python",
   "name": "python",
   "nbconvert_exporter": "python",
   "pygments_lexer": "ipython2",
   "version": "2.7.13"
  }
 },
 "nbformat": 4,
 "nbformat_minor": 2
}
